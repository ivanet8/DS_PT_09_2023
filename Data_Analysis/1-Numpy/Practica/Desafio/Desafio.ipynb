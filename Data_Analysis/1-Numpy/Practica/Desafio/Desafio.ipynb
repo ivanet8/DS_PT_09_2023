{
 "cells": [
  {
   "cell_type": "markdown",
   "metadata": {},
   "source": [
    "## Reto 1: Hundir la Flota (Batalla Naval)\n",
    "### Objetivo: Implementar una versión simplificada del juego de Batalla Naval usando Python y Numpy para manejar el tablero del juego.\n",
    "\n",
    "- Crear un tablero 10x10 usando Numpy arrays.\n",
    "- Colocar 5 barcos de diferentes tamaños en posiciones aleatorias en el tablero.\n",
    "- Permitir que el jugador ingrese coordenadas para \"disparar\".\n",
    "- Mostrar un mensaje si el jugador acierta o falla, y actualizar el tablero acorde.\n",
    "- Seguir jugando hasta que todos los barcos sean hundidos.\n",
    "#### Habilidades aplicadas: Uso de arrays de Numpy, generación de números aleatorios, estructuras de control en Python.\n",
    "\n",
    "## Reto 2: Tres en Raya (Tic-Tac-Toe)\n",
    "### Objetivo: Implementar el juego de Tres en Raya.\n",
    "\n",
    "- Crear un tablero 3x3 usando Numpy arrays.\n",
    "- Permitir a dos jugadores ingresar sus movimientos alternadamente.\n",
    "- Verificar después de cada movimiento si alguno de los jugadores ha ganado.\n",
    "- Mostrar el tablero después de cada turno.\n",
    "- Terminar el juego si hay un ganador o si el tablero está lleno.\n",
    "#### Habilidades aplicadas: Manipulación de arrays, estructuras de control, funciones en Python.\n",
    "\n",
    "## Reto 3: Torres de Hanoi\n",
    "### Objetivo: Implementar el juego de las Torres de Hanoi usando Python.\n",
    "\n",
    "- Crear tres pilas para representar los tres postes del juego.\n",
    "- Implementar la lógica para mover un disco de un poste a otro, siguiendo las reglas del juego.\n",
    "- Desarrollar una función recursiva para resolver el juego.\n",
    "- Permitir al usuario elegir el número de discos con los que jugará.\n",
    "#### Habilidades aplicadas: Recursividad, estructuras de datos (pilas), funciones en Python."
   ]
  },
  {
   "cell_type": "markdown",
   "metadata": {},
   "source": [
    "``Deberas hacer por lo menos uno de los tres para de la fecha de entrega, pero antes de terminar el modulo de analisis de datos tendras que entregar todos..``"
   ]
  },
  {
   "cell_type": "markdown",
   "metadata": {},
   "source": [
    "como se cual debo hacer muy simple introduce tu fecha de cumpleaños en la siguiente funcion"
   ]
  },
  {
   "cell_type": "code",
   "execution_count": 1,
   "metadata": {},
   "outputs": [],
   "source": [
    "def cual_es_mi_reto(fecha: str) -> str:\n",
    "    \"\"\"\n",
    "    Args:\n",
    "    ------\n",
    "    fecha: str el formato de la fecha es DD-MM-YYYY\n",
    "    Returns:\n",
    "    -------\n",
    "    str: el numero del reto\n",
    "    \"\"\"\n",
    "    try:\n",
    "        return int(fecha.split('-')[0]) % 3 +1\n",
    "    except:\n",
    "        return 'La fecha tiene que ser en este formato DD-MM-YYYY'"
   ]
  },
  {
   "cell_type": "code",
   "execution_count": 2,
   "metadata": {},
   "outputs": [
    {
     "data": {
      "text/plain": [
       "3"
      ]
     },
     "execution_count": 2,
     "metadata": {},
     "output_type": "execute_result"
    }
   ],
   "source": [
    "cual_es_mi_reto(fecha='23-12-1992')"
   ]
  },
  {
   "cell_type": "code",
   "execution_count": 1,
   "metadata": {},
   "outputs": [
    {
     "name": "stdout",
     "output_type": "stream",
     "text": [
      "1 a 2\n",
      "1 a 3\n",
      "2 a 3\n"
     ]
    }
   ],
   "source": [
    "def Hanoi (discos,TorreOrigen=1,TorreAuxiliar=2,TorreDestino=3):\n",
    "    if discos==1:\n",
    "        print (TorreOrigen,\"a\",TorreDestino)\n",
    "        \n",
    "    else:\n",
    "        Hanoi(discos-1,TorreOrigen,TorreDestino,TorreAuxiliar)\n",
    "        print(TorreOrigen,\"a\",TorreDestino)\n",
    "        Hanoi (discos-1,TorreAuxiliar,TorreOrigen,TorreDestino)\n",
    "    return\n",
    "\n",
    "##Lo probamos con 3 discos\n",
    "Hanoi(2)\n",
    "\n"
   ]
  },
  {
   "cell_type": "code",
   "execution_count": 3,
   "metadata": {},
   "outputs": [
    {
     "name": "stdout",
     "output_type": "stream",
     "text": [
      "[2, 1]\n",
      "Mueve el disco 1 desde el poste A al poste B\n",
      "Mueve el disco 2 desde el poste A al poste C\n",
      "Mueve el disco 1 desde el poste B al poste C\n"
     ]
    }
   ],
   "source": [
    "def torre_hanoi(n, origen, destino, auxiliar, origen_nombre, destino_nombre, auxiliar_nombre):\n",
    "    if n == 1:\n",
    "        disco = origen.pop()\n",
    "        destino.append(disco)\n",
    "        print(f'Mueve el disco {disco} desde el poste {origen_nombre} al poste {destino_nombre}')\n",
    "    else:\n",
    "        torre_hanoi(n - 1, origen, auxiliar, destino, origen_nombre, auxiliar_nombre, destino_nombre)\n",
    "        disco = origen.pop()\n",
    "        destino.append(disco)\n",
    "        print(f'Mueve el disco {disco} desde el poste {origen_nombre} al poste {destino_nombre}')\n",
    "        torre_hanoi(n - 1, auxiliar, destino, origen, auxiliar_nombre, destino_nombre, origen_nombre)\n",
    "\n",
    "# Inicialización de los postes y nombres\n",
    "n = int(input(\"Ingrese la cantidad de discos: \"))\n",
    "poste_a = list(range(n, 0, -1))\n",
    "poste_b = []\n",
    "poste_c = []\n",
    "origen_nombre = \"A\"\n",
    "auxiliar_nombre = \"B\"\n",
    "destino_nombre = \"C\"\n",
    "\n",
    "# Llamada a la función para resolver la Torre de Hanoi\n",
    "torre_hanoi(n, poste_a, poste_c, poste_b, origen_nombre, destino_nombre, auxiliar_nombre)"
   ]
  }
 ],
 "metadata": {
  "kernelspec": {
   "display_name": "este",
   "language": "python",
   "name": "python3"
  },
  "language_info": {
   "codemirror_mode": {
    "name": "ipython",
    "version": 3
   },
   "file_extension": ".py",
   "mimetype": "text/x-python",
   "name": "python",
   "nbconvert_exporter": "python",
   "pygments_lexer": "ipython3",
   "version": "3.11.5"
  }
 },
 "nbformat": 4,
 "nbformat_minor": 2
}
