{
 "cells": [
  {
   "cell_type": "markdown",
   "metadata": {},
   "source": [
    "![imagen](./img/ejercicios.png)"
   ]
  },
  {
   "cell_type": "markdown",
   "metadata": {},
   "source": [
    "# Ejercicios funciones\n",
    "## Ejercicio 1\n",
    "Escribe una función que convierta números del 1 al 7 en nombres de los dias de la semana. La función constará de un único argumento numérico y una salida de tipo string"
   ]
  },
  {
   "cell_type": "code",
   "execution_count": 3,
   "metadata": {},
   "outputs": [
    {
     "name": "stdout",
     "output_type": "stream",
     "text": [
      "Nº día inválido\n"
     ]
    }
   ],
   "source": [
    "def dia_semana(n_dia: int)-> str:\n",
    "    if n_dia == 1:\n",
    "        print('Lunes')\n",
    "\n",
    "    elif n_dia == 2:\n",
    "        print('Martes')\n",
    "\n",
    "    elif n_dia == 3:\n",
    "        print('Miércoles')\n",
    "\n",
    "    elif n_dia == 4:\n",
    "        print('Jueves')\n",
    "    \n",
    "    elif n_dia == 5:\n",
    "        print('Viernes')\n",
    "\n",
    "    elif n_dia == 6:\n",
    "        print('Sábado')\n",
    "\n",
    "    elif n_dia == 7:\n",
    "        print('Domingo')\n",
    "    \n",
    "    else:\n",
    "        print('Nº día inválido') \n",
    "\n",
    "dia_semana(8)"
   ]
  },
  {
   "cell_type": "code",
   "execution_count": 55,
   "metadata": {},
   "outputs": [],
   "source": [
    "\n",
    "dias= {1:'Lunes', 2:'Martes', 3:'Miércoles', 4:'Jueves', 5:'Viernes', 6:'Sábado', 7:'Domingo'}\n",
    "dias.get(8)\n"
   ]
  },
  {
   "cell_type": "code",
   "execution_count": 58,
   "metadata": {},
   "outputs": [
    {
     "data": {
      "text/plain": [
       "'Viernes'"
      ]
     },
     "execution_count": 58,
     "metadata": {},
     "output_type": "execute_result"
    }
   ],
   "source": [
    "# CON UN DICCIONARIO\n",
    "\n",
    "def dia_semana(n_dia: int)-> str:\n",
    "    \n",
    "    if n_dia >= 1 and n_dia <= 7:\n",
    "        dias= {1:'Lunes', 2:'Martes', 3:'Miércoles', 4:'Jueves', 5:'Viernes', 6:'Sábado', 7:'Domingo'}\n",
    "        return dias.get(n_dia)\n",
    "    else:\n",
    "        print('No es un día de la semana')\n",
    "\n",
    "    \n",
    "dia_semana(5)"
   ]
  },
  {
   "cell_type": "code",
   "execution_count": 60,
   "metadata": {},
   "outputs": [
    {
     "data": {
      "text/plain": [
       "'No es un día de la semana'"
      ]
     },
     "execution_count": 60,
     "metadata": {},
     "output_type": "execute_result"
    }
   ],
   "source": [
    "# CON UN DICCIONARIO USANDO EL TRY/EXCEPT INTERNO DEL GET\n",
    "\n",
    "def dia_semana(n_dia: int)-> str:\n",
    "    \n",
    "    dias= {1:'Lunes', 2:'Martes', 3:'Miércoles', 4:'Jueves', 5:'Viernes', 6:'Sábado', 7:'Domingo'}\n",
    "    return dias.get(n_dia, 'No es un día de la semana')\n",
    "    \n",
    "dia_semana(8)"
   ]
  },
  {
   "cell_type": "markdown",
   "metadata": {},
   "source": [
    "## Ejercicio 2\n",
    "En el ejercicio 8 de bucles, creábamos una pirámide invertida, cuyo número de pisos venía determinado por un input del usuario. Crea una función que replique el comportamiento de la pirámide, y utiliza un único parámetro de entrada de la función para determinar el número de filas de la pirámide, es decir, elimina la sentencia input."
   ]
  },
  {
   "cell_type": "code",
   "execution_count": 4,
   "metadata": {},
   "outputs": [
    {
     "name": "stdout",
     "output_type": "stream",
     "text": [
      "5 4 3 2 1\n",
      "4 3 2 1\n",
      "3 2 1\n",
      "2 1\n",
      "1\n"
     ]
    }
   ],
   "source": [
    "#EJERCICIO 8 DE BUCLES\n",
    "\n",
    "# lista_8 = list(range(5,0,-1))\n",
    "# for elem in lista_8.copy():\n",
    "#     print(*lista_8)\n",
    "#     lista_8.pop(0)"
   ]
  },
  {
   "cell_type": "code",
   "execution_count": 13,
   "metadata": {},
   "outputs": [
    {
     "name": "stdout",
     "output_type": "stream",
     "text": [
      "9 8 7 6 5 4 3 2 1\n",
      "8 7 6 5 4 3 2 1\n",
      "7 6 5 4 3 2 1\n",
      "6 5 4 3 2 1\n",
      "5 4 3 2 1\n",
      "4 3 2 1\n",
      "3 2 1\n",
      "2 1\n",
      "1\n"
     ]
    }
   ],
   "source": [
    "def piramide(n_pisos: int)-> list:\n",
    "\n",
    "    pir = list(range(n_pisos,0,-1))\n",
    "    \n",
    "    for piso in pir.copy():\n",
    "        print(*pir)\n",
    "        pir.pop(0)\n",
    "\n",
    "piramide(9)"
   ]
  },
  {
   "cell_type": "code",
   "execution_count": 66,
   "metadata": {},
   "outputs": [
    {
     "name": "stdout",
     "output_type": "stream",
     "text": [
      "9 8 7 6 5 4 3 2 1 \n",
      "8 7 6 5 4 3 2 1 \n",
      "7 6 5 4 3 2 1 \n",
      "6 5 4 3 2 1 \n",
      "5 4 3 2 1 \n",
      "4 3 2 1 \n",
      "3 2 1 \n",
      "2 1 \n",
      "1 \n"
     ]
    },
    {
     "data": {
      "text/plain": [
       "'Pirámide mostrada'"
      ]
     },
     "execution_count": 66,
     "metadata": {},
     "output_type": "execute_result"
    }
   ],
   "source": [
    "# CON BUCLE WHILE\n",
    "\n",
    "def piramide(n_pisos: int):\n",
    "\n",
    "    while n_pisos > 0:\n",
    "        for i in range(n_pisos,0,-1):\n",
    "            print(i, end=' ')\n",
    "        \n",
    "        print()\n",
    "        n_pisos = n_pisos -1\n",
    "\n",
    "    return 'Pirámide mostrada'\n",
    "\n",
    "piramide(9)"
   ]
  },
  {
   "cell_type": "markdown",
   "metadata": {},
   "source": [
    "## Ejercicio 3\n",
    "Escibe una función que compare dos números. La función tiene dos argumentos y hay tres salidas posibles: que sean iguales, que el primero se  mayor que el segundo, o que el segundo sea mayor que el primero"
   ]
  },
  {
   "cell_type": "code",
   "execution_count": 16,
   "metadata": {},
   "outputs": [
    {
     "data": {
      "text/plain": [
       "'El primer número es mayor'"
      ]
     },
     "execution_count": 16,
     "metadata": {},
     "output_type": "execute_result"
    }
   ],
   "source": [
    "def iguales(x1: float, x2: float)-> str:\n",
    "    if x1 == x2:\n",
    "        return 'Son iguales'\n",
    "    elif x1 > x2:\n",
    "        return 'El primer número es mayor'\n",
    "    else:\n",
    "        return 'El segundo número es mayor'\n",
    "    \n",
    "iguales(1,0.5)"
   ]
  },
  {
   "cell_type": "markdown",
   "metadata": {},
   "source": [
    "## Ejercicio 4\n",
    "Escribe una función que sea un contador de letras. En el primer argumento tienes que introducir un texto, y el segundo que sea la letra a contar. La función tiene que devolver un entero con el número de veces que aparece esa letra, tanto mayuscula, como minúscula"
   ]
  },
  {
   "cell_type": "code",
   "execution_count": 25,
   "metadata": {},
   "outputs": [
    {
     "name": "stdout",
     "output_type": "stream",
     "text": [
      "l\n"
     ]
    },
    {
     "data": {
      "text/plain": [
       "2"
      ]
     },
     "execution_count": 25,
     "metadata": {},
     "output_type": "execute_result"
    }
   ],
   "source": [
    "def contador(frase: str, letra_buscada: str)-> int:\n",
    "    contar=0\n",
    "    letra_buscada=letra_buscada.lower() # Ojo aquí porque si no actualizas la variable, el lower no te la cambia por sí sola.\n",
    "    print(letra_buscada)\n",
    "     \n",
    "    for letra in frase.lower():\n",
    "        if letra == letra_buscada:\n",
    "            contar = contar + 1\n",
    "        \n",
    "    return contar\n",
    "\n",
    "contador('Hola cAracolA', 'l')"
   ]
  },
  {
   "cell_type": "code",
   "execution_count": 69,
   "metadata": {},
   "outputs": [
    {
     "data": {
      "text/plain": [
       "2"
      ]
     },
     "execution_count": 69,
     "metadata": {},
     "output_type": "execute_result"
    }
   ],
   "source": [
    "# MEJOR:\n",
    "\n",
    "def contador(frase, letra):\n",
    "    frase= frase.lower()\n",
    "    return frase.count(letra.lower())\n",
    "\n",
    "contador('Hola cAracoLA', 'l')"
   ]
  },
  {
   "cell_type": "markdown",
   "metadata": {},
   "source": [
    "## Ejercicio 5\n",
    "Escribe una función que tenga un único argumento, un string. La salida de la función tiene que ser un diccionario con el conteo de todas las letras de ese string."
   ]
  },
  {
   "cell_type": "code",
   "execution_count": 74,
   "metadata": {},
   "outputs": [
    {
     "data": {
      "text/plain": [
       "{1: 'H', 2: 'o', 3: 'l', 4: 'a', 5: 'A', 6: 'd', 7: 'i', 8: 'o', 9: 's'}"
      ]
     },
     "execution_count": 74,
     "metadata": {},
     "output_type": "execute_result"
    }
   ],
   "source": [
    "# NO ES COMO LO PIDE EL ENUNCIADO\n",
    "\n",
    "def contador5(frase: str)-> int:\n",
    "    cuenta=0 # Para llevar la cuenta de las letras. Servirá como las claves del diccionario.\n",
    "    result={} \n",
    "\n",
    "    for letra in frase:\n",
    "        if letra != ' ':\n",
    "            cuenta= cuenta+1 #Por cada letra que iteramos del string, sumamos 1.\n",
    "            result.update({cuenta : letra}) #Añadimos nueva entrada al diccionario con el conteo (la clave) y la letra (el valor de cada clave, es decir, de cada posición)\n",
    "        \n",
    "        else:\n",
    "            continue\n",
    "\n",
    "    return result\n",
    "\n",
    "contador5('Hola Adios')\n",
    "\n"
   ]
  },
  {
   "cell_type": "code",
   "execution_count": 77,
   "metadata": {},
   "outputs": [
    {
     "data": {
      "text/plain": [
       "{'h': 1,\n",
       " 'o': 5,\n",
       " 'l': 4,\n",
       " 'a': 4,\n",
       " 'm': 2,\n",
       " 'e': 1,\n",
       " 'd': 1,\n",
       " 'f': 10,\n",
       " 'u': 1,\n",
       " 's': 1,\n",
       " 't': 1,\n",
       " 'i': 1,\n",
       " 'n': 1}"
      ]
     },
     "execution_count": 77,
     "metadata": {},
     "output_type": "execute_result"
    }
   ],
   "source": [
    "def contador5(frase):\n",
    "    all_letters = {}\n",
    "\n",
    "    for i in frase.lower():\n",
    "        \n",
    "        if i == ' ':\n",
    "            continue\n",
    "\n",
    "        if i in all_letters:                        # Aquí vemos si la letra (clave) está en el diccionario.\n",
    "            all_letters[i] = all_letters[i] + 1     # Si está, le sumamos 1 a su valor (conteo de esa letra)\n",
    "        \n",
    "        else:\n",
    "            all_letters.update({i : 1})              # Y si no está, creamos la clave, asignándole el valor de 1 ya que es una letra que acaba de aparecer por 1ª vez.\n",
    "\n",
    "    return all_letters\n",
    "\n",
    "contador5('Hola me llamo Adolfo Faustino')"
   ]
  },
  {
   "cell_type": "markdown",
   "metadata": {},
   "source": [
    "## Ejercicio 6\n",
    "Escribir una función que añada o elimine elementos en una lista. La función necesita los siguientes argumentos:\n",
    "* lista: la lista donde se añadirán o eliminarán los elementos\n",
    "* comando: \"add\" o \"remove\"\n",
    "* elemento: Por defecto es None."
   ]
  },
  {
   "cell_type": "code",
   "execution_count": 78,
   "metadata": {},
   "outputs": [
    {
     "name": "stdout",
     "output_type": "stream",
     "text": [
      "['Hola', True]\n"
     ]
    },
    {
     "data": {
      "text/plain": [
       "' Por defecto, el elemento es None\\n        Por defecto, la lista añade elemento a la lista. '"
      ]
     },
     "execution_count": 78,
     "metadata": {},
     "output_type": "execute_result"
    }
   ],
   "source": [
    "def modif_lista(lista: list, elemento=None, anadir=True)-> list:\n",
    "    ''' Por defecto, el elemento es None\n",
    "        Por defecto, la lista añade elemento a la lista. '''\n",
    "    \n",
    "    if anadir:\n",
    "        lista.append(elemento)\n",
    "        return lista\n",
    "    else:\n",
    "        lista.remove(elemento)\n",
    "        return lista\n",
    "    \n",
    "lista1=['Hola', 4, True]\n",
    "\n",
    "print(modif_lista(lista1, 4, False))\n",
    "modif_lista.__doc__"
   ]
  },
  {
   "cell_type": "markdown",
   "metadata": {},
   "source": [
    "## Ejercicio 7\n",
    "Crea una función que reciba un número arbitrario de palabras, y devuelva una frase completa, separando las palabras con espacios."
   ]
  },
  {
   "cell_type": "code",
   "execution_count": 42,
   "metadata": {},
   "outputs": [
    {
     "data": {
      "text/plain": [
       "'hola y adios'"
      ]
     },
     "execution_count": 42,
     "metadata": {},
     "output_type": "execute_result"
    }
   ],
   "source": [
    "def frase(*args: tuple):\n",
    "    return ' '.join(args)\n",
    "\n",
    "frase('hola', 'y', 'adios')"
   ]
  },
  {
   "cell_type": "markdown",
   "metadata": {},
   "source": [
    "## Ejercicio 8\n",
    "Escribe un programa que obtenga el enésimo número de la [serie de Fibonacci](https://es.wikipedia.org/wiki/Sucesi%C3%B3n_de_Fibonacci). Tienes que crear una función recursiva con un único argumento.\n",
    "\n",
    "```Python\n",
    "fibonacci(2) = 1\n",
    "fibonacci(4) = 3\n",
    "fibonacci(5) = 5\n",
    "fibonacci(8) = 21\n",
    "```"
   ]
  },
  {
   "cell_type": "code",
   "execution_count": 89,
   "metadata": {},
   "outputs": [
    {
     "data": {
      "text/plain": [
       "21"
      ]
     },
     "execution_count": 89,
     "metadata": {},
     "output_type": "execute_result"
    }
   ],
   "source": [
    "def fibonacci(num: int)-> int:\n",
    "    if num == 1:\n",
    "        return 1\n",
    "    elif num == 0:\n",
    "        return 0\n",
    "    else:\n",
    "        return (fibonacci(num-1) + fibonacci(num-2))\n",
    "    \n",
    "fibonacci(8)"
   ]
  },
  {
   "cell_type": "code",
   "execution_count": null,
   "metadata": {},
   "outputs": [],
   "source": []
  },
  {
   "cell_type": "markdown",
   "metadata": {},
   "source": [
    "## Ejercicio 9\n",
    "Define en una única celda las siguientes funciones:\n",
    "* Función que calcule el área de un cuadrado\n",
    "* Función que calcule el area de un triángulo\n",
    "* Función que calcule el área de un círculo\n",
    "\n",
    "En otra celda, calcular el area de:\n",
    "* Dos círculos de radio 10 + un triángulo de base 3 y altura 7\n",
    "* Un cuadrado de lado = 10 + 3 círculos (uno de radio = 4 y los otros dos de radio = 6) + 5 triángulos de base = 2 + altura = 4"
   ]
  },
  {
   "cell_type": "code",
   "execution_count": 43,
   "metadata": {},
   "outputs": [],
   "source": [
    "def cuadrado(lado: float)-> float:\n",
    "    return lado * lado\n",
    "\n",
    "def triangulo(altura: float, base: float)-> float:\n",
    "    return base * altura / 2\n",
    "\n",
    "def circulo(radio: float)-> float:\n",
    "    import math\n",
    "    return math.pi * radio**2"
   ]
  },
  {
   "cell_type": "code",
   "execution_count": 46,
   "metadata": {},
   "outputs": [
    {
     "name": "stdout",
     "output_type": "stream",
     "text": [
      "1. Dos círculos de radio 10 + un triángulo de base 3 y altura 7\n",
      "638.8185307179587\n",
      "2. Un cuadrado de lado 10, + tres círculos (uno de radio 4 y los otros dos de radio 6) + cinco triangulos de base 2 y altura 4\n",
      "396.46015351590177\n"
     ]
    }
   ],
   "source": [
    "print('1. Dos círculos de radio 10 + un triángulo de base 3 y altura 7')\n",
    "print(2 * circulo(10) + triangulo(7,3))\n",
    "\n",
    "print('2. Un cuadrado de lado 10, + tres círculos (uno de radio 4 y los otros dos de radio 6) + cinco triangulos de base 2 y altura 4')\n",
    "print(cuadrado(10) + circulo(4) + 2* circulo(6) + 5 * triangulo(4,2))"
   ]
  }
 ],
 "metadata": {
  "kernelspec": {
   "display_name": "Python 3",
   "language": "python",
   "name": "python3"
  },
  "language_info": {
   "codemirror_mode": {
    "name": "ipython",
    "version": 3
   },
   "file_extension": ".py",
   "mimetype": "text/x-python",
   "name": "python",
   "nbconvert_exporter": "python",
   "pygments_lexer": "ipython3",
   "version": "3.11.5"
  }
 },
 "nbformat": 4,
 "nbformat_minor": 4
}
